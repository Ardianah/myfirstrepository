{
 "cells": [
  {
   "cell_type": "code",
   "execution_count": 8,
   "metadata": {},
   "outputs": [
    {
     "data": {
      "text/html": [
       "<div>\n",
       "<style scoped>\n",
       "    .dataframe tbody tr th:only-of-type {\n",
       "        vertical-align: middle;\n",
       "    }\n",
       "\n",
       "    .dataframe tbody tr th {\n",
       "        vertical-align: top;\n",
       "    }\n",
       "\n",
       "    .dataframe thead th {\n",
       "        text-align: right;\n",
       "    }\n",
       "</style>\n",
       "<table border=\"1\" class=\"dataframe\">\n",
       "  <thead>\n",
       "    <tr style=\"text-align: right;\">\n",
       "      <th></th>\n",
       "      <th>P</th>\n",
       "      <th>Q</th>\n",
       "      <th>R</th>\n",
       "      <th>S</th>\n",
       "    </tr>\n",
       "  </thead>\n",
       "  <tbody>\n",
       "    <tr>\n",
       "      <td>0</td>\n",
       "      <td>1</td>\n",
       "      <td>2</td>\n",
       "      <td>3</td>\n",
       "      <td>4</td>\n",
       "    </tr>\n",
       "    <tr>\n",
       "      <td>1</td>\n",
       "      <td>2</td>\n",
       "      <td>3</td>\n",
       "      <td>4</td>\n",
       "      <td>5</td>\n",
       "    </tr>\n",
       "    <tr>\n",
       "      <td>2</td>\n",
       "      <td>3</td>\n",
       "      <td>4</td>\n",
       "      <td>5</td>\n",
       "      <td>6</td>\n",
       "    </tr>\n",
       "    <tr>\n",
       "      <td>3</td>\n",
       "      <td>4</td>\n",
       "      <td>5</td>\n",
       "      <td>6</td>\n",
       "      <td>7</td>\n",
       "    </tr>\n",
       "    <tr>\n",
       "      <td>4</td>\n",
       "      <td>5</td>\n",
       "      <td>6</td>\n",
       "      <td>7</td>\n",
       "      <td>8</td>\n",
       "    </tr>\n",
       "    <tr>\n",
       "      <td>...</td>\n",
       "      <td>...</td>\n",
       "      <td>...</td>\n",
       "      <td>...</td>\n",
       "      <td>...</td>\n",
       "    </tr>\n",
       "    <tr>\n",
       "      <td>495</td>\n",
       "      <td>6</td>\n",
       "      <td>7</td>\n",
       "      <td>8</td>\n",
       "      <td>9</td>\n",
       "    </tr>\n",
       "    <tr>\n",
       "      <td>496</td>\n",
       "      <td>1</td>\n",
       "      <td>2</td>\n",
       "      <td>3</td>\n",
       "      <td>4</td>\n",
       "    </tr>\n",
       "    <tr>\n",
       "      <td>497</td>\n",
       "      <td>2</td>\n",
       "      <td>3</td>\n",
       "      <td>4</td>\n",
       "      <td>5</td>\n",
       "    </tr>\n",
       "    <tr>\n",
       "      <td>498</td>\n",
       "      <td>3</td>\n",
       "      <td>4</td>\n",
       "      <td>5</td>\n",
       "      <td>6</td>\n",
       "    </tr>\n",
       "    <tr>\n",
       "      <td>499</td>\n",
       "      <td>4</td>\n",
       "      <td>5</td>\n",
       "      <td>6</td>\n",
       "      <td>7</td>\n",
       "    </tr>\n",
       "  </tbody>\n",
       "</table>\n",
       "<p>500 rows × 4 columns</p>\n",
       "</div>"
      ],
      "text/plain": [
       "     P  Q  R  S\n",
       "0    1  2  3  4\n",
       "1    2  3  4  5\n",
       "2    3  4  5  6\n",
       "3    4  5  6  7\n",
       "4    5  6  7  8\n",
       "..  .. .. .. ..\n",
       "495  6  7  8  9\n",
       "496  1  2  3  4\n",
       "497  2  3  4  5\n",
       "498  3  4  5  6\n",
       "499  4  5  6  7\n",
       "\n",
       "[500 rows x 4 columns]"
      ]
     },
     "execution_count": 8,
     "metadata": {},
     "output_type": "execute_result"
    }
   ],
   "source": [
    "import numpy as ip\n",
    "import matplotlib.pyplot as mat\n",
    "from scipy import stats\n",
    "import pandas as data\n",
    "\n",
    "data.read_csv(\"data.csv\")"
   ]
  },
  {
   "cell_type": "code",
   "execution_count": 4,
   "metadata": {},
   "outputs": [
    {
     "name": "stdout",
     "output_type": "stream",
     "text": [
      "reta-rata P : 4.396\n",
      "reta-rata Q : 4.792\n",
      "reta-rata R : 5.662\n",
      "reta-rata S : 5.602\n"
     ]
    }
   ],
   "source": [
    "import pandas as dt\n",
    "df=dt.read_csv(\"data.csv\")\n",
    "df[\"P\"].describe()\n",
    "df[\"Q\"].describe()\n",
    "df[\"R\"].describe()\n",
    "df[\"S\"].describe()\n",
    "print(\"reta-rata P :\",df['P'].mean())\n",
    "print(\"reta-rata Q :\",df['Q'].mean())\n",
    "print(\"reta-rata R :\",df['R'].mean())\n",
    "print(\"reta-rata S :\",df['S'].mean())"
   ]
  },
  {
   "cell_type": "code",
   "execution_count": 6,
   "metadata": {},
   "outputs": [
    {
     "name": "stdout",
     "output_type": "stream",
     "text": [
      "('Q2 S', 6.0)\n"
     ]
    }
   ],
   "source": [
    "import pandas as dt\n",
    "df=dt.read_csv(\"data.csv\")\n",
    "df[\"S\"].describe()\n",
    "a=(\"Q2 S\",df['S'].median())\n",
    "print (a)"
   ]
  },
  {
   "cell_type": "code",
   "execution_count": 9,
   "metadata": {},
   "outputs": [
    {
     "name": "stdout",
     "output_type": "stream",
     "text": [
      "modus P : 0    1\n",
      "1    2\n",
      "2    3\n",
      "3    4\n",
      "dtype: int64\n",
      "modus Q : 0    2\n",
      "1    3\n",
      "2    4\n",
      "3    5\n",
      "4    6\n",
      "dtype: int64\n",
      "modus R : 0    8\n",
      "dtype: int64\n",
      "modus S : 0    7\n",
      "dtype: int64\n"
     ]
    }
   ],
   "source": [
    "import pandas as dt\n",
    "df=dt.read_csv(\"data.csv\")\n",
    "df[\"P\"].describe()\n",
    "df[\"Q\"].describe()\n",
    "df[\"R\"].describe()\n",
    "df[\"S\"].describe()\n",
    "print(\"modus P :\",df['P'].mode())\n",
    "print(\"modus Q :\",df['Q'].mode())\n",
    "print(\"modus R :\",df['R'].mode())\n",
    "print(\"modus S :\",df['S'].mode())"
   ]
  },
  {
   "cell_type": "code",
   "execution_count": 10,
   "metadata": {},
   "outputs": [
    {
     "name": "stdout",
     "output_type": "stream",
     "text": [
      "standar deviasi P : 2.400564395894781\n",
      "standar deviasi Q : 2.2827961618666848\n",
      "standar deviasi R : 2.086255238901436\n",
      "standar deviasi S : 2.382214493235982\n"
     ]
    }
   ],
   "source": [
    "import pandas as dt\n",
    "df=dt.read_csv(\"data.csv\")\n",
    "df[\"P\"].describe()\n",
    "df[\"Q\"].describe()\n",
    "df[\"R\"].describe()\n",
    "df[\"S\"].describe()\n",
    "print(\"standar deviasi P :\",df['P'].std())\n",
    "print(\"standar deviasi Q :\",df['Q'].std())\n",
    "print(\"standar deviasi R :\",df['R'].std())\n",
    "print(\"standar deviasi S :\",df['S'].std())"
   ]
  },
  {
   "cell_type": "code",
   "execution_count": 11,
   "metadata": {},
   "outputs": [
    {
     "name": "stdout",
     "output_type": "stream",
     "text": [
      "varian P : 500\n",
      "varian Q : 500\n",
      "varian R : 500\n",
      "varian S : 500\n"
     ]
    }
   ],
   "source": [
    "import pandas as dt\n",
    "df=dt.read_csv(\"data.csv\")\n",
    "df[\"P\"].describe()\n",
    "df[\"Q\"].describe()\n",
    "df[\"R\"].describe()\n",
    "df[\"S\"].describe()\n",
    "print(\"varian P :\",df['P'].count())\n",
    "print(\"varian Q :\",df['Q'].count())\n",
    "print(\"varian R :\",df['R'].count())\n",
    "print(\"varian S :\",df['S'].count())"
   ]
  },
  {
   "cell_type": "code",
   "execution_count": 12,
   "metadata": {},
   "outputs": [
    {
     "name": "stdout",
     "output_type": "stream",
     "text": [
      "skewness P : 0.3023442392819847\n",
      "skewness Q : 0.11858689559592421\n",
      "skewness R : -0.12085362312273451\n",
      "skewness S : -0.2887811407183489\n"
     ]
    }
   ],
   "source": [
    "import pandas as dt\n",
    "df=dt.read_csv(\"data.csv\")\n",
    "df[\"P\"].describe()\n",
    "df[\"Q\"].describe()\n",
    "df[\"R\"].describe()\n",
    "df[\"S\"].describe()\n",
    "print(\"skewness P :\",df['P'].skew())\n",
    "print(\"skewness Q :\",df['Q'].skew())\n",
    "print(\"skewness R :\",df['R'].skew())\n",
    "print(\"skewness S :\",df['S'].skew())"
   ]
  },
  {
   "cell_type": "code",
   "execution_count": 13,
   "metadata": {},
   "outputs": [
    {
     "name": "stdout",
     "output_type": "stream",
     "text": [
      "Min P : 1\n",
      "Min Q : 1\n",
      "Min R : 2\n",
      "Min S : 1\n"
     ]
    }
   ],
   "source": [
    "import pandas as dt\n",
    "df=dt.read_csv(\"data.csv\")\n",
    "df[\"P\"].describe()\n",
    "df[\"Q\"].describe()\n",
    "df[\"R\"].describe()\n",
    "df[\"S\"].describe()\n",
    "print(\"Min P :\",df['P'].min())\n",
    "print(\"Min Q :\",df['Q'].min())\n",
    "print(\"Min R :\",df['R'].min())\n",
    "print(\"Min S :\",df['S'].min())"
   ]
  },
  {
   "cell_type": "code",
   "execution_count": 5,
   "metadata": {},
   "outputs": [
    {
     "name": "stdout",
     "output_type": "stream",
     "text": [
      "Q1 P : 2.0\n",
      "Q1 Q : 3.0\n",
      "Q1 R : 4.0\n",
      "Q1 S : 4.0\n"
     ]
    }
   ],
   "source": [
    "import pandas as dt\n",
    "df=dt.read_csv(\"data.csv\")\n",
    "df[\"P\"].describe()\n",
    "df[\"Q\"].describe()\n",
    "df[\"R\"].describe()\n",
    "df[\"S\"].describe()\n",
    "print(\"Q1 P :\",df['P'].quantile(0.25))\n",
    "print(\"Q1 Q :\",df['Q'].quantile(0.25))\n",
    "print(\"Q1 R :\",df['R'].quantile(0.25))\n",
    "print(\"Q1 S :\",df['S'].quantile(0.25))"
   ]
  },
  {
   "cell_type": "code",
   "execution_count": 6,
   "metadata": {},
   "outputs": [
    {
     "name": "stdout",
     "output_type": "stream",
     "text": [
      "Q2 P : 4.0\n",
      "Q2 Q : 5.0\n",
      "Q2 R : 6.0\n",
      "Q2 S : 6.0\n"
     ]
    }
   ],
   "source": [
    "import pandas as dt\n",
    "df=dt.read_csv(\"data.csv\")\n",
    "df[\"P\"].describe()\n",
    "df[\"Q\"].describe()\n",
    "df[\"R\"].describe()\n",
    "df[\"S\"].describe()\n",
    "print(\"Q2 P :\",df['P'].quantile(0.50))\n",
    "print(\"Q2 Q :\",df['Q'].quantile(0.50))\n",
    "print(\"Q2 R :\",df['R'].quantile(0.50))\n",
    "print(\"Q2 S :\",df['S'].quantile(0.50))"
   ]
  },
  {
   "cell_type": "code",
   "execution_count": 7,
   "metadata": {},
   "outputs": [
    {
     "name": "stdout",
     "output_type": "stream",
     "text": [
      "Q3 P : 6.0\n",
      "Q3 Q : 7.0\n",
      "Q3 R : 8.0\n",
      "Q3 S : 8.0\n"
     ]
    }
   ],
   "source": [
    "import pandas as dt\n",
    "df=dt.read_csv(\"data.csv\")\n",
    "df[\"P\"].describe()\n",
    "df[\"Q\"].describe()\n",
    "df[\"R\"].describe()\n",
    "df[\"S\"].describe()\n",
    "print(\"Q3 P :\",df['P'].quantile(0.75))\n",
    "print(\"Q3 Q :\",df['Q'].quantile(0.75))\n",
    "print(\"Q3 R :\",df['R'].quantile(0.75))\n",
    "print(\"Q3 S :\",df['S'].quantile(0.75))"
   ]
  },
  {
   "cell_type": "code",
   "execution_count": 4,
   "metadata": {},
   "outputs": [
    {
     "name": "stdout",
     "output_type": "stream",
     "text": [
      "Max P : 10\n",
      "Max Q : 9\n",
      "Max R : 9\n",
      "Max S : 9\n"
     ]
    }
   ],
   "source": [
    "import pandas as dt\n",
    "df=dt.read_csv(\"data.csv\")\n",
    "df[\"P\"].describe()\n",
    "df[\"Q\"].describe()\n",
    "df[\"R\"].describe()\n",
    "df[\"S\"].describe()\n",
    "print(\"Max P :\",df['P'].max())\n",
    "print(\"Max Q :\",df['Q'].max())\n",
    "print(\"Max R :\",df['R'].max())\n",
    "print(\"Max S :\",df['S'].max())"
   ]
  },
  {
   "cell_type": "code",
   "execution_count": 21,
   "metadata": {},
   "outputs": [
    {
     "data": {
      "image/png": "[encoded data removed]",
      "text/plain": [
       "<Figure size 432x288 with 1 Axes>"
      ]
     },
     "metadata": {
      "needs_background": "light"
     },
     "output_type": "display_data"
    }
   ],
   "source": [
    "import numpy as ip\n",
    "import seaborn as sea\n",
    "import matplotlib.pyplot as mat\n",
    "from scipy import stats\n",
    "import pandas as dt\n",
    "\n",
    "for i in range(3):\n",
    "    hasil=dt.read_csv(\"data.csv\",usecols=[i])\n",
    "    sea.distplot(hasil);"
   ]
  },
  {
   "cell_type": "code",
   "execution_count": null,
   "metadata": {},
   "outputs": [],
   "source": []
  }
 ],
 "metadata": {
  "kernelspec": {
   "display_name": "Python 3",
   "language": "python",
   "name": "python3"
  },
  "language_info": {
   "codemirror_mode": {
    "name": "ipython",
    "version": 3
   },
   "file_extension": ".py",
   "mimetype": "text/x-python",
   "name": "python",
   "nbconvert_exporter": "python",
   "pygments_lexer": "ipython3",
   "version": "3.7.4"
  }
 },
 "nbformat": 4,
 "nbformat_minor": 2
}
